{
 "cells": [
  {
   "cell_type": "code",
   "execution_count": 1,
   "id": "28d81a02-35d1-4078-b174-6b618b0a2862",
   "metadata": {},
   "outputs": [
    {
     "name": "stdout",
     "output_type": "stream",
     "text": [
      "2024-08-22 10:25:34 - Loaded .env file\n",
      "2024-08-22 10:25:34 - 📋 Ensuring phoenix working directory: C:\\Users\\Johanna Heinz\\.phoenix\n",
      "2024-08-22 10:25:34 - Dataset: phoenix_inferences_85e651e8-a666-42d4-9467-ce714d02a418 initialized\n"
     ]
    },
    {
     "data": {
      "text/plain": [
       "True"
      ]
     },
     "execution_count": 1,
     "metadata": {},
     "output_type": "execute_result"
    }
   ],
   "source": [
    "import os\n",
    "\n",
    "import chainlit as cl\n",
    "import phoenix as px\n",
    "from dotenv import load_dotenv\n",
    "from langchain.chains import create_retrieval_chain\n",
    "\n",
    "# add imports\n",
    "from langchain.chains.combine_documents import create_stuff_documents_chain\n",
    "from langchain.chains.history_aware_retriever import create_history_aware_retriever\n",
    "from langchain.schema.runnable.config import RunnableConfig\n",
    "from langchain_core.messages import HumanMessage, AIMessage\n",
    "from langchain_core.prompts import ChatPromptTemplate, MessagesPlaceholder\n",
    "from langchain_openai import AzureChatOpenAI\n",
    "from phoenix.trace.langchain import LangChainInstrumentor\n",
    "from vectorstore import create_vectorstore\n",
    "\n",
    "load_dotenv()"
   ]
  },
  {
   "cell_type": "code",
   "execution_count": 3,
   "id": "bee6922a-a95b-4784-8533-bac8086b3ab4",
   "metadata": {},
   "outputs": [
    {
     "name": "stdout",
     "output_type": "stream",
     "text": [
      "2024-08-22 10:27:55 - 📋 Ensuring phoenix working directory: C:\\Users\\Johanna Heinz\\.phoenix\n",
      "🌍 To view the Phoenix app in your browser, visit http://localhost:6006/\n",
      "📖 For more information on how to use Phoenix, check out https://docs.arize.com/phoenix\n"
     ]
    }
   ],
   "source": [
    "\n",
    "# start a phoenix session\n",
    "session = px.launch_app()\n",
    "\n",
    "# initialize Langchain auto-instrumentation\n",
    "LangChainInstrumentor().instrument()\n",
    "\n",
    "# initialize the Azure OpenAI Model\n",
    "model = AzureChatOpenAI(\n",
    "    azure_endpoint=os.getenv(\"AZURE_OPENAI_ENDPOINT\"),\n",
    "    deployment_name=os.getenv(\"AZURE_OPENAI_DEPLOYMENT\"),\n",
    "    api_key=os.getenv(\"AZURE_OPENAI_API_KEY\"),\n",
    "    api_version=os.getenv(\"AZURE_OPENAI_VERSION\"),\n",
    "    openai_api_type=\"azure\",\n",
    "    temperature=0.0,\n",
    "    streaming=True,\n",
    ")\n",
    "\n",
    "# creates vectorstore if it does not exist already and load data\n",
    "vectorstore = await create_vectorstore(\n",
    "    api_version=os.getenv(\"AZURE_OPENAI_VERSION\"),\n",
    "    api_key=os.getenv(\"AZURE_OPENAI_API_KEY\"),\n",
    "    azure_endpoint=os.getenv(\"AZURE_OPENAI_ENDPOINT\"),\n",
    "    embeddings_deployment=os.getenv(\"AZURE_OPENAI_EMBEDDING_DEPLOYMENT\"),\n",
    ")\n",
    "\n",
    "# # initialize a retriever from the vectorstore\n",
    "retriever = vectorstore.as_retriever()\n",
    "\n",
    "# system prompt to create history or rather add context\n",
    "contextualize_system_prompt = \"\"\"Given a chat history and the latest user question \n",
    "    which might reference context in the chat history, \n",
    "    formulate a standalone question which can be understood \n",
    "    without the chat history. Do NOT answer the question, \n",
    "    just reformulate it if needed and otherwise return it as is.\"\"\"\n",
    "\n",
    "# prompt template for context + placeholder for chat history\n",
    "contextualize_prompt = ChatPromptTemplate.from_messages(\n",
    "    [\n",
    "        (\"system\", contextualize_system_prompt),\n",
    "        MessagesPlaceholder(\"chat_history\"),\n",
    "        (\"human\", \"{input}\"),\n",
    "    ]\n",
    ")\n",
    "# create history aware retriever\n",
    "history_aware_retriever = create_history_aware_retriever(\n",
    "    model, retriever, contextualize_prompt\n",
    ")\n",
    "\n",
    "# crate a system prompt that tells the LLM to answer questions based on the given context\n",
    "# and use a variable that represents the context\n",
    "system_prompt = \"\"\"You are an assistant for question-answering tasks. \n",
    "    Use the following pieces of retrieved context to answer \n",
    "    the question. If you don't know the answer, say that you \n",
    "    don't know. Use three sentences maximum and keep the \n",
    "    answer concise.\n",
    "    \\n\\n\n",
    "    {context}\"\"\"\n",
    "\n",
    "# create a prompt template with the system prompt\n",
    "prompt = ChatPromptTemplate.from_messages(\n",
    "    [\n",
    "        (\"system\", system_prompt),\n",
    "        (\"human\", \"{input}\"),\n",
    "    ]\n",
    ")\n",
    "\n",
    "# create a helper chain that inserts the retrieved documents into the prompt\n",
    "question_answer_chain = create_stuff_documents_chain(model, prompt)\n",
    "\n",
    "# create the final RAG chain\n",
    "chain = create_retrieval_chain(history_aware_retriever, question_answer_chain)\n",
    "\n",
    "# update chain with user message\n",
    "answer = \"\"\n",
    "async for chunk in chain.astream(\n",
    "    {\"input\": \"Hallo\"}, \n",
    "    ):\n",
    "    answer += chunk"
   ]
  },
  {
   "cell_type": "code",
   "execution_count": null,
   "id": "15c728d3-4f21-45ba-99ac-9d5d28bb7e66",
   "metadata": {},
   "outputs": [],
   "source": []
  }
 ],
 "metadata": {
  "kernelspec": {
   "display_name": "Python 3 (ipykernel)",
   "language": "python",
   "name": "python3"
  },
  "language_info": {
   "codemirror_mode": {
    "name": "ipython",
    "version": 3
   },
   "file_extension": ".py",
   "mimetype": "text/x-python",
   "name": "python",
   "nbconvert_exporter": "python",
   "pygments_lexer": "ipython3",
   "version": "3.11.3"
  }
 },
 "nbformat": 4,
 "nbformat_minor": 5
}
